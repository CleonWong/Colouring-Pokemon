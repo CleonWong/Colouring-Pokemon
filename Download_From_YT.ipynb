{
 "cells": [
  {
   "cell_type": "markdown",
   "metadata": {},
   "source": [
    "## Download video from YouTube\n",
    "\n",
    "Using [pytube](https://python-pytube.readthedocs.io/en/latest/)."
   ]
  },
  {
   "cell_type": "code",
   "execution_count": 4,
   "metadata": {},
   "outputs": [],
   "source": [
    "import pytube as pyt"
   ]
  },
  {
   "cell_type": "code",
   "execution_count": 12,
   "metadata": {},
   "outputs": [],
   "source": [
    "poke_blue_vid = pyt.YouTube(\"https://www.youtube.com/watch?v=cWS76Wmu66M\")\n",
    "poke_silver_vid = pyt.YouTube(\"https://www.youtube.com/watch?v=O19yQvnFomQ\")"
   ]
  },
  {
   "cell_type": "code",
   "execution_count": 37,
   "metadata": {},
   "outputs": [
    {
     "name": "stdout",
     "output_type": "stream",
     "text": [
      "Length of Pokemon Blue video: 24872 seconds\n",
      "Length of Pokemon Silver video: 42883 seconds\n",
      "\n",
      "Rating of Pokemon Blue video: 4.7677903\n",
      "Rating of Pokemon Silver video: 4.7170525\n",
      "\n",
      "Number of views on Pokemon Blue video: 123483\n",
      "Number of views on Pokemon Silver video: 239349\n"
     ]
    }
   ],
   "source": [
    "print(f\"Length of Pokemon Blue video: {poke_blue_vid.length} seconds\")\n",
    "print(f\"Length of Pokemon Silver video: {poke_silver_vid.length} seconds\")\n",
    "print()\n",
    "print(f\"Rating of Pokemon Blue video: {poke_blue_vid.rating}\")\n",
    "print(f\"Rating of Pokemon Silver video: {poke_silver_vid.rating}\")\n",
    "print()\n",
    "print(f\"Number of views on Pokemon Blue video: {poke_blue_vid.views}\")\n",
    "print(f\"Number of views on Pokemon Silver video: {poke_silver_vid.views}\")"
   ]
  },
  {
   "cell_type": "code",
   "execution_count": 31,
   "metadata": {},
   "outputs": [
    {
     "name": "stdout",
     "output_type": "stream",
     "text": [
      "Pokemon Blue video available streams:\n",
      "-------------------------------------\n",
      "<Stream: itag=\"18\" mime_type=\"video/mp4\" res=\"360p\" fps=\"30fps\" vcodec=\"avc1.42001E\" acodec=\"mp4a.40.2\" progressive=\"True\" type=\"video\">\n",
      "<Stream: itag=\"133\" mime_type=\"video/mp4\" res=\"240p\" fps=\"30fps\" vcodec=\"avc1.4d400d\" progressive=\"False\" type=\"video\">\n",
      "<Stream: itag=\"160\" mime_type=\"video/mp4\" res=\"144p\" fps=\"30fps\" vcodec=\"avc1.4d400b\" progressive=\"False\" type=\"video\">\n",
      "<Stream: itag=\"140\" mime_type=\"audio/mp4\" abr=\"128kbps\" acodec=\"mp4a.40.2\" progressive=\"False\" type=\"audio\">\n",
      "\n",
      "Pokemon Silver video available streams:\n",
      "-------------------------------------\n",
      "<Stream: itag=\"18\" mime_type=\"video/mp4\" res=\"360p\" fps=\"30fps\" vcodec=\"avc1.42001E\" acodec=\"mp4a.40.2\" progressive=\"True\" type=\"video\">\n",
      "<Stream: itag=\"133\" mime_type=\"video/mp4\" res=\"240p\" fps=\"30fps\" vcodec=\"avc1.4d400d\" progressive=\"False\" type=\"video\">\n",
      "<Stream: itag=\"160\" mime_type=\"video/mp4\" res=\"144p\" fps=\"30fps\" vcodec=\"avc1.4d400b\" progressive=\"False\" type=\"video\">\n",
      "<Stream: itag=\"140\" mime_type=\"audio/mp4\" abr=\"128kbps\" acodec=\"mp4a.40.2\" progressive=\"False\" type=\"audio\">\n"
     ]
    }
   ],
   "source": [
    "# Query MPEG-4 format streams\n",
    "print(\"Pokemon Blue video available streams:\")\n",
    "print(\"-------------------------------------\")\n",
    "for stream in poke_blue_vid.streams.filter(file_extension = \"mp4\"):\n",
    "    print(stream)\n",
    "    \n",
    "print()\n",
    "\n",
    "print(\"Pokemon Silver video available streams:\")\n",
    "print(\"-------------------------------------\")\n",
    "for stream in poke_silver_vid.streams.filter(file_extension = \"mp4\"):\n",
    "    print(stream)"
   ]
  },
  {
   "cell_type": "code",
   "execution_count": 42,
   "metadata": {},
   "outputs": [
    {
     "data": {
      "text/plain": [
       "'/Users/cleonwong/Desktop/Code/Colouring-Pokemon/Videos/Pokemon_Silver.mp4'"
      ]
     },
     "execution_count": 42,
     "metadata": {},
     "output_type": "execute_result"
    }
   ],
   "source": [
    "# Download prefered videos\n",
    "poke_blue_vid.streams.get_by_itag(18).download(output_path = \"Videos/\", filename = \"PokemonBlue\")\n",
    "poke_silver_vid.streams.get_by_itag(18).download(output_path = \"Videos/\", filename = \"PokemonSilver\")"
   ]
  },
  {
   "cell_type": "markdown",
   "metadata": {},
   "source": [
    "## Extract frames from downloaded videos\n",
    "\n",
    "Using [OpenCV](https://docs.opencv.org/2.4/index.html)."
   ]
  },
  {
   "cell_type": "code",
   "execution_count": 10,
   "metadata": {},
   "outputs": [],
   "source": [
    "import cv2\n",
    "import os\n",
    "import math"
   ]
  },
  {
   "cell_type": "code",
   "execution_count": 35,
   "metadata": {},
   "outputs": [],
   "source": [
    "def inspect_video(video_path, step):\n",
    "    vidcap = cv2.VideoCapture(video_path)\n",
    "    n_frames = vidcap.get(cv2.CAP_PROP_FRAME_COUNT)\n",
    "    frame_rate = vidcap.get(cv2.CAP_PROP_FPS)\n",
    "    frame_width = vidcap.get(cv2.CAP_PROP_FRAME_WIDTH)\n",
    "    frame_height = vidcap.get(cv2.CAP_PROP_FRAME_HEIGHT)\n",
    "    vid_length = n_frames / frame_rate\n",
    "    image_count = math.floor(n_frames / step) + 1\n",
    "    \n",
    "    print(f\"Video: {video_path}\")\n",
    "    print(\"------------------------------\")\n",
    "    print(f\"Total video length: {vid_length} seconds\")\n",
    "    print(f\"Frame width x height: {frame_width, frame_height}\")\n",
    "    print(f\"Total number of frames in video: {n_frames}\")\n",
    "    print(f\"Frames per second: {frame_rate}\")\n",
    "    print(f\"Extracting every {step} frame.\")\n",
    "    print(f\"Total number of images extracted: {image_count}\")\n",
    "    print()\n",
    "\n",
    "def extract_frames(video_path, dest_path, saveas_filename, step, img_extension = '.jpg'):\n",
    "    \n",
    "    vidcap = cv2.VideoCapture(video_path)\n",
    "    \n",
    "    frame_count = 0 # Counts the frame that we are at.\n",
    "    img_count = 0 # Counts the number of images saved.\n",
    "    \n",
    "    while vidcap.isOpened():\n",
    "        \n",
    "        success, image = vidcap.read()\n",
    "        \n",
    "        if success == False:\n",
    "            break\n",
    "        \n",
    "        if frame_count % step == 0:\n",
    "            img_filename = ''.join([saveas_filename, '_', str(img_count), img_extension])\n",
    "            img_path = os.path.join(dest_path, img_filename)\n",
    "            cv2.imwrite(img_path, image)\n",
    "            img_count += 1\n",
    "            \n",
    "        frame_count += 1\n",
    "\n",
    "        \n",
    "    vidcap.release()\n",
    "    cv2.destroyAllWindows()"
   ]
  },
  {
   "cell_type": "code",
   "execution_count": 36,
   "metadata": {},
   "outputs": [
    {
     "name": "stdout",
     "output_type": "stream",
     "text": [
      "Video: Videos/PokemonBlue.mp4\n",
      "------------------------------\n",
      "Total video length: 24871.38360567908 seconds\n",
      "Frame width x height: (320.0, 288.0)\n",
      "Total number of frames in video: 742759.0\n",
      "Frames per second: 29.864\n",
      "Extracting every 900 frame.\n",
      "Total number of images extracted: 826\n",
      "\n",
      "Video: Videos/PokemonSilver.mp4\n",
      "------------------------------\n",
      "Total video length: 42883.2 seconds\n",
      "Frame width x height: (320.0, 288.0)\n",
      "Total number of frames in video: 1286496.0\n",
      "Frames per second: 30.0\n",
      "Extracting every 600 frame.\n",
      "Total number of images extracted: 2145\n",
      "\n"
     ]
    }
   ],
   "source": [
    "inspect_video(video_path = \"Videos/PokemonBlue.mp4\", step = 900)\n",
    "inspect_video(video_path = \"Videos/PokemonSilver.mp4\", step = 600)"
   ]
  },
  {
   "cell_type": "code",
   "execution_count": 34,
   "metadata": {},
   "outputs": [],
   "source": [
    "# Extract frames from Pokemon Blue\n",
    "extract_frames(video_path = \"Videos/PokemonBlue.mp4\",\n",
    "               dest_path = \"Images/PokemonBlue/\",\n",
    "               saveas_filename = \"PokemonBlue\",\n",
    "               step = 900,\n",
    "               img_extension = '.jpg')\n",
    "\n",
    "# Extract frames from Pokemon Silver\n",
    "extract_frames(video_path = \"Videos/PokemonSilver.mp4\",\n",
    "               dest_path = \"Images/PokemonSilver/\",\n",
    "               saveas_filename = \"PokemonSilver\",\n",
    "               step = 600,\n",
    "               img_extension = '.jpg')"
   ]
  },
  {
   "cell_type": "code",
   "execution_count": null,
   "metadata": {},
   "outputs": [],
   "source": []
  }
 ],
 "metadata": {
  "kernelspec": {
   "display_name": "Python 3",
   "language": "python",
   "name": "python3"
  },
  "language_info": {
   "codemirror_mode": {
    "name": "ipython",
    "version": 3
   },
   "file_extension": ".py",
   "mimetype": "text/x-python",
   "name": "python",
   "nbconvert_exporter": "python",
   "pygments_lexer": "ipython3",
   "version": "3.7.7"
  }
 },
 "nbformat": 4,
 "nbformat_minor": 4
}
