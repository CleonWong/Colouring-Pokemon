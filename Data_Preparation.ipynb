{
 "cells": [
  {
   "cell_type": "markdown",
   "metadata": {},
   "source": [
    "# Data preparation\n",
    "\n",
    "1. Understanding the data\n",
    "2. Pre-processing the data\n",
    "\n",
    "---"
   ]
  },
  {
   "cell_type": "markdown",
   "metadata": {},
   "source": [
    "## 1. Understanding the data"
   ]
  },
  {
   "cell_type": "code",
   "execution_count": 3,
   "metadata": {},
   "outputs": [],
   "source": [
    "import numpy as np\n",
    "import matplotlib.pyplot as plt\n",
    "\n",
    "from skimage.color import rgb2lab, rgb2gray, lab2rgb\n",
    "from skimage.io import imread, imshow"
   ]
  },
  {
   "cell_type": "code",
   "execution_count": 50,
   "metadata": {},
   "outputs": [],
   "source": [
    "silver = imread(fname = \"Images/PokemonSilver/PokemonSilver_227.jpg\")\n",
    "blue = imread(fname = \"Images/PokemonBlue/PokemonBlue_264.jpg\", as_gray = True)"
   ]
  },
  {
   "cell_type": "code",
   "execution_count": 74,
   "metadata": {},
   "outputs": [],
   "source": [
    "# Define functions understanding the images\n",
    "\n",
    "def RGBimage_summary(img_path):\n",
    "\n",
    "    '''Prints a summary of key information of an image. \n",
    "    Note that skimage.io.imread imports a RGB image as a \n",
    "    numpy array with the third dimension in the order of \n",
    "    R, G then B.'''\n",
    "    \n",
    "    img = imread(fname = img_path)\n",
    "    \n",
    "    print(\"-------------\")\n",
    "    print(\"Image Summary\")\n",
    "    print(\"-------------\")\n",
    "\n",
    "    img_filename = img_path.split(\"/\")[-1]\n",
    "    print(f\"Filename: {img_filename}\")\n",
    "    \n",
    "    img_type = type(img)\n",
    "    print(f\"Object type: {img_type}\")\n",
    "    \n",
    "    img_dim = img.shape\n",
    "    img_height, img_width = img_dim[0], img_dim[1]\n",
    "    print(F\"Image dimensions: {img_dim}\")\n",
    "\n",
    "    img_nchannels = 1 if len(img_dim) == 2 else img_dim[-1]\n",
    "    \n",
    "    print(f\"Number of channels: {img_nchannels}\")\n",
    "    \n",
    "    if img_nchannels == 3:\n",
    "        R_max, R_min = np.max(img[:, :, 0]), np.min(img[:, :, 0])\n",
    "        G_max, G_min = np.max(img[:, :, 1]), np.min(img[:, :, 1])\n",
    "        B_max, B_min = np.max(img[:, :, 2]), np.min(img[:, :, 2])\n",
    "        \n",
    "        print (f\"R range: [{R_min}, {R_max}]\")\n",
    "        print (f\"G range: [{G_min}, {G_max}]\")\n",
    "        print (f\"B range: [{B_min}, {B_max}]\")\n",
    "        \n",
    "    elif img_nchannels == 1:\n",
    "        Gray_max, Gray_min = np.max(img), np.min(img)\n",
    "        print(f\"Gray range: [{Gray_min}, {Gray_max}]\")\n",
    "    "
   ]
  },
  {
   "cell_type": "code",
   "execution_count": 75,
   "metadata": {},
   "outputs": [
    {
     "name": "stdout",
     "output_type": "stream",
     "text": [
      "-------------\n",
      "Image Summary\n",
      "-------------\n",
      "Filename: PokemonBlue_264.jpg\n",
      "Object type: <class 'numpy.ndarray'>\n",
      "Image dimensions: (288, 320, 3)\n",
      "Number of channels: 3\n",
      "R range: [0, 255]\n",
      "G range: [0, 255]\n",
      "B range: [0, 255]\n"
     ]
    }
   ],
   "source": [
    "img_path = \"Images/PokemonBlue/PokemonBlue_264.jpg\"\n",
    "\n",
    "RGBimage_summary(img_path)"
   ]
  },
  {
   "cell_type": "code",
   "execution_count": null,
   "metadata": {},
   "outputs": [],
   "source": []
  }
 ],
 "metadata": {
  "kernelspec": {
   "display_name": "Python 3",
   "language": "python",
   "name": "python3"
  },
  "language_info": {
   "codemirror_mode": {
    "name": "ipython",
    "version": 3
   },
   "file_extension": ".py",
   "mimetype": "text/x-python",
   "name": "python",
   "nbconvert_exporter": "python",
   "pygments_lexer": "ipython3",
   "version": "3.7.7"
  }
 },
 "nbformat": 4,
 "nbformat_minor": 4
}
